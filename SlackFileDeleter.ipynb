{
 "cells": [
  {
   "cell_type": "code",
   "execution_count": 1,
   "metadata": {
    "collapsed": true
   },
   "outputs": [],
   "source": [
    "import requests\n",
    "import json\n",
    "from datetime import datetime"
   ]
  },
  {
   "cell_type": "markdown",
   "metadata": {},
   "source": [
    "# 設定"
   ]
  },
  {
   "cell_type": "code",
   "execution_count": 27,
   "metadata": {},
   "outputs": [],
   "source": [
    "# slackのwebページで生成したtoken\n",
    "token = \"\"\n",
    "\n",
    "# この日付より前のファイルを削除する\n",
    "time =  datetime.strptime( \"2017-03-31\", \"%Y-%m-%d\" )\n",
    "\n",
    "# 時刻をunix時間に変換\n",
    "time = time.timestamp()"
   ]
  },
  {
   "cell_type": "markdown",
   "metadata": {},
   "source": [
    "# 関数定義"
   ]
  },
  {
   "cell_type": "code",
   "execution_count": 26,
   "metadata": {},
   "outputs": [],
   "source": [
    "def get_file_list( ts_to=None ,channel=None ):\n",
    "    file_list = []\n",
    "    url = \"https://slack.com/api/files.list?token=\" + token\n",
    "\n",
    "    if ts_to:\n",
    "        url +=  \"&ts_to=\" + str(ts_to)\n",
    "    \n",
    "    if channel:\n",
    "        url += \"&channel=\" + channel\n",
    "    \n",
    "    r = requests.get(  url )\n",
    "\n",
    "    data = json.loads(r.text)\n",
    "    \n",
    "    N = len(data[\"files\"])\n",
    "    for  n in range(N):\n",
    "        name = data[\"files\"][n][\"name\"] \n",
    "        id = data[\"files\"][n][\"id\"] \n",
    "        file_list.append( (name, id) )\n",
    "    \n",
    "    return file_list\n",
    "\n",
    "def delete_file( id ):\n",
    "    r = requests.get(  \"https://slack.com/api/files.delete?token=\" + token + \"&file=\" + id  )\n",
    "    data = json.loads(r.text)\n",
    "    return data[\"ok\"]\n",
    "\n",
    "def get_channel_list():\n",
    "    dchannle_dic = {}\n",
    "    r = requests.get(  \"https://slack.com/api/channels.list?token=\" + token )\n",
    "    data = json.loads(r.text)\n",
    "    \n",
    "    N = len(data[\"channels\"])\n",
    "    for n in range(N):\n",
    "        name = data[\"channels\"][n][\"name\"]\n",
    "        id = data[\"channels\"][n][\"id\"]\n",
    "        dchannle_dic[name] = id\n",
    "    return dchannle_dic"
   ]
  },
  {
   "cell_type": "markdown",
   "metadata": {},
   "source": [
    "# ファイルを削除\n",
    "念のため，delete_fileをコメントアウトして，ファイル一覧を確認した後に，delete_fileのコメントアウトを外し，再度実行し削除してください．"
   ]
  },
  {
   "cell_type": "code",
   "execution_count": 28,
   "metadata": {},
   "outputs": [],
   "source": [
    "# 個人のファイル一覧\n",
    "file_list = get_file_list( time, channel=None  )\n",
    "\n",
    "# ファイル名一覧表示\n",
    "for  name, id in file_list:\n",
    "    print( name ) \n",
    "    \n",
    "    # 実際に削除する場合は以下のコメントアウトを取る\n",
    "    #ret = delete_file( id )\n",
    "    #print( ret )"
   ]
  },
  {
   "cell_type": "code",
   "execution_count": null,
   "metadata": {
    "collapsed": true
   },
   "outputs": [],
   "source": []
  }
 ],
 "metadata": {
  "kernelspec": {
   "display_name": "Python 3",
   "language": "python",
   "name": "python3"
  },
  "language_info": {
   "codemirror_mode": {
    "name": "ipython",
    "version": 3
   },
   "file_extension": ".py",
   "mimetype": "text/x-python",
   "name": "python",
   "nbconvert_exporter": "python",
   "pygments_lexer": "ipython3",
   "version": "3.6.2"
  }
 },
 "nbformat": 4,
 "nbformat_minor": 2
}
